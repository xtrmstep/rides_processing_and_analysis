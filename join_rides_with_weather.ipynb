{
 "metadata": {
  "language_info": {
   "codemirror_mode": {
    "name": "ipython",
    "version": 3
   },
   "file_extension": ".py",
   "mimetype": "text/x-python",
   "name": "python",
   "nbconvert_exporter": "python",
   "pygments_lexer": "ipython3",
   "version": "3.8.5"
  },
  "orig_nbformat": 2,
  "kernelspec": {
   "name": "python3",
   "display_name": "Python 3.8.5 64-bit ('base': conda)"
  },
  "interpreter": {
   "hash": "b3ba2566441a7c06988d0923437866b63cedc61552a5af99d1f4fb67d367b25f"
  }
 },
 "nbformat": 4,
 "nbformat_minor": 2,
 "cells": [
  {
   "cell_type": "code",
   "execution_count": 6,
   "source": [
    "import pandas as pd\r\n",
    "import glob"
   ],
   "outputs": [],
   "metadata": {}
  },
  {
   "cell_type": "code",
   "execution_count": 11,
   "source": [
    "file_weather = \"./data/prepared_weather.csv\"\r\n",
    "file_mapped = \"./data/processing/*.csv\"\r\n",
    "filenames = glob.glob(file_mapped)"
   ],
   "outputs": [],
   "metadata": {}
  },
  {
   "cell_type": "code",
   "execution_count": 28,
   "source": [
    "df_weather = pd.read_csv(file_weather).reset_index().set_index(\"datetime\")\r\n",
    "df_weather = df_weather.drop(\"index\", axis=1)"
   ],
   "outputs": [],
   "metadata": {}
  },
  {
   "cell_type": "code",
   "execution_count": 38,
   "source": [
    "for filename in filenames:\r\n",
    "    df = pd.read_csv(filename)\r\n",
    "    df[\"datetime\"] = df[\"by_hour\"]\r\n",
    "    df = df.reset_index().set_index(\"datetime\")\r\n",
    "    df = df.drop(\"index\", axis=1)\r\n",
    "    df = df.join(df_weather, on=\"datetime\")\r\n",
    "    df.to_csv(filename, index=False)"
   ],
   "outputs": [],
   "metadata": {}
  }
 ]
}