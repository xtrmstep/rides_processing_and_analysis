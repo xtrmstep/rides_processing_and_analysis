{
 "metadata": {
  "language_info": {
   "codemirror_mode": {
    "name": "ipython",
    "version": 3
   },
   "file_extension": ".py",
   "mimetype": "text/x-python",
   "name": "python",
   "nbconvert_exporter": "python",
   "pygments_lexer": "ipython3",
   "version": "3.8.5"
  },
  "orig_nbformat": 2,
  "kernelspec": {
   "name": "python3",
   "display_name": "Python 3.8.5 64-bit ('base': conda)"
  },
  "interpreter": {
   "hash": "b3ba2566441a7c06988d0923437866b63cedc61552a5af99d1f4fb67d367b25f"
  }
 },
 "nbformat": 4,
 "nbformat_minor": 2,
 "cells": [
  {
   "cell_type": "code",
   "execution_count": 51,
   "source": [
    "import csv\r\n",
    "import pandas as pd\r\n",
    "from datetime import datetime, timedelta\r\n",
    "import os\r\n",
    "from time import time\r\n",
    "import glob"
   ],
   "outputs": [],
   "metadata": {}
  },
  {
   "cell_type": "code",
   "execution_count": 52,
   "source": [
    "start = time()"
   ],
   "outputs": [],
   "metadata": {}
  },
  {
   "cell_type": "code",
   "execution_count": 53,
   "source": [
    "def reduce_rides_data(files, tag_column, tag_name, filename_template):\r\n",
    "    \r\n",
    "    for filename in files:\r\n",
    "        \r\n",
    "        df = pd.read_csv(filename)\r\n",
    "        tag_value = df[tag_column].iloc[0]\r\n",
    "\r\n",
    "        file_tag = tag_value\r\n",
    "        if isinstance(file_tag, str):\r\n",
    "            if len(file_tag) == 10:  # only date\r\n",
    "                file_tag = datetime.strptime(file_tag, \"%Y-%m-%d\").strftime(\"%Y%m%d_%H\")\r\n",
    "            else:\r\n",
    "                file_tag = datetime.strptime(file_tag, \"%Y-%m-%d %H:%M:%S\").strftime(\"%Y%m%d_%H\")\r\n",
    "\r\n",
    "        reduced = dict(\r\n",
    "            tag = tag_name,\r\n",
    "            tag_value = tag_value,\r\n",
    "            \r\n",
    "            rides_count = len(df),\r\n",
    "\r\n",
    "            passenger_count_mean = df[\"passenger_count\"].mean(),\r\n",
    "            passenger_count_median = df[\"passenger_count\"].median(),\r\n",
    "\r\n",
    "            trip_distance_sum = df[\"trip_distance\"].sum(),\r\n",
    "            trip_distance_mean = df[\"trip_distance\"].mean(),\r\n",
    "            trip_distance_median = df[\"trip_distance\"].median(),\r\n",
    "\r\n",
    "            tip_amount_sum = df[\"tip_amount\"].sum(),\r\n",
    "            tip_amount_mean = df[\"tip_amount\"].mean(),\r\n",
    "            tip_amount_median = df[\"tip_amount\"].median(),\r\n",
    "\r\n",
    "            humidity_mean = df[\"humidity\"].mean(),\r\n",
    "            humidity_median = df[\"humidity\"].median(),\r\n",
    "\r\n",
    "            pressure_mean = df[\"pressure\"].mean(),\r\n",
    "            pressure_median = df[\"pressure\"].median(),\r\n",
    "\r\n",
    "            wind_speed_mean = df[\"wind_speed\"].mean(),\r\n",
    "            wind_speed_median = df[\"wind_speed\"].median()\r\n",
    "        )\r\n",
    "\r\n",
    "        reduced_filename = filename_template.format(tag_name, file_tag)\r\n",
    "        df_reduced = pd.DataFrame([reduced])\r\n",
    "        df_reduced.to_csv(reduced_filename, index=False)"
   ],
   "outputs": [],
   "metadata": {}
  },
  {
   "cell_type": "code",
   "execution_count": 54,
   "source": [
    "files_by_days = glob.glob(\"./data/processing/hours*.csv\")\r\n",
    "files_by_hours = glob.glob(\"./data/processing/days*.csv\")\r\n",
    "files_by_weekdays = glob.glob(\"./data/processing/weekdays*.csv\")\r\n",
    "\r\n",
    "file_reduced_template = \"./data/reduced/{0}_{1}.csv\""
   ],
   "outputs": [],
   "metadata": {}
  },
  {
   "cell_type": "code",
   "execution_count": 55,
   "source": [
    "reduce_rides_data(files_by_days, \"by_day\", \"day\", file_reduced_template)\r\n",
    "reduce_rides_data(files_by_hours, \"by_hour\", \"hour\", file_reduced_template)\r\n",
    "reduce_rides_data(files_by_weekdays, \"by_weekday\", \"weekday\", file_reduced_template)"
   ],
   "outputs": [
    {
     "output_type": "error",
     "ename": "ValueError",
     "evalue": "unconverted data remains: :00",
     "traceback": [
      "\u001b[1;31m---------------------------------------------------------------------------\u001b[0m",
      "\u001b[1;31mValueError\u001b[0m                                Traceback (most recent call last)",
      "\u001b[1;32m<ipython-input-55-641e4b650944>\u001b[0m in \u001b[0;36m<module>\u001b[1;34m\u001b[0m\n\u001b[0;32m      1\u001b[0m \u001b[0mreduce_rides_data\u001b[0m\u001b[1;33m(\u001b[0m\u001b[0mfiles_by_days\u001b[0m\u001b[1;33m,\u001b[0m \u001b[1;34m\"by_day\"\u001b[0m\u001b[1;33m,\u001b[0m \u001b[1;34m\"day\"\u001b[0m\u001b[1;33m,\u001b[0m \u001b[0mfile_reduced_template\u001b[0m\u001b[1;33m)\u001b[0m\u001b[1;33m\u001b[0m\u001b[1;33m\u001b[0m\u001b[0m\n\u001b[1;32m----> 2\u001b[1;33m \u001b[0mreduce_rides_data\u001b[0m\u001b[1;33m(\u001b[0m\u001b[0mfiles_by_hours\u001b[0m\u001b[1;33m,\u001b[0m \u001b[1;34m\"by_hour\"\u001b[0m\u001b[1;33m,\u001b[0m \u001b[1;34m\"hour\"\u001b[0m\u001b[1;33m,\u001b[0m \u001b[0mfile_reduced_template\u001b[0m\u001b[1;33m)\u001b[0m\u001b[1;33m\u001b[0m\u001b[1;33m\u001b[0m\u001b[0m\n\u001b[0m\u001b[0;32m      3\u001b[0m \u001b[0mreduce_rides_data\u001b[0m\u001b[1;33m(\u001b[0m\u001b[0mfiles_by_weekdays\u001b[0m\u001b[1;33m,\u001b[0m \u001b[1;34m\"by_weekday\"\u001b[0m\u001b[1;33m,\u001b[0m \u001b[1;34m\"weekday\"\u001b[0m\u001b[1;33m,\u001b[0m \u001b[0mfile_reduced_template\u001b[0m\u001b[1;33m)\u001b[0m\u001b[1;33m\u001b[0m\u001b[1;33m\u001b[0m\u001b[0m\n",
      "\u001b[1;32m<ipython-input-53-a60b3279748c>\u001b[0m in \u001b[0;36mreduce_rides_data\u001b[1;34m(files, tag_column, tag_name, filename_template)\u001b[0m\n\u001b[0;32m     11\u001b[0m                 \u001b[0mfile_tag\u001b[0m \u001b[1;33m=\u001b[0m \u001b[0mdatetime\u001b[0m\u001b[1;33m.\u001b[0m\u001b[0mstrptime\u001b[0m\u001b[1;33m(\u001b[0m\u001b[0mfile_tag\u001b[0m\u001b[1;33m,\u001b[0m \u001b[1;34m\"%Y-%m-%d\"\u001b[0m\u001b[1;33m)\u001b[0m\u001b[1;33m.\u001b[0m\u001b[0mstrftime\u001b[0m\u001b[1;33m(\u001b[0m\u001b[1;34m\"%Y%m%d_%H\"\u001b[0m\u001b[1;33m)\u001b[0m\u001b[1;33m\u001b[0m\u001b[1;33m\u001b[0m\u001b[0m\n\u001b[0;32m     12\u001b[0m             \u001b[1;32melse\u001b[0m\u001b[1;33m:\u001b[0m\u001b[1;33m\u001b[0m\u001b[1;33m\u001b[0m\u001b[0m\n\u001b[1;32m---> 13\u001b[1;33m                 \u001b[0mfile_tag\u001b[0m \u001b[1;33m=\u001b[0m \u001b[0mdatetime\u001b[0m\u001b[1;33m.\u001b[0m\u001b[0mstrptime\u001b[0m\u001b[1;33m(\u001b[0m\u001b[0mfile_tag\u001b[0m\u001b[1;33m,\u001b[0m \u001b[1;34m\"%Y-%m-%d %H:%M%S\"\u001b[0m\u001b[1;33m)\u001b[0m\u001b[1;33m.\u001b[0m\u001b[0mstrftime\u001b[0m\u001b[1;33m(\u001b[0m\u001b[1;34m\"%Y%m%d_%H\"\u001b[0m\u001b[1;33m)\u001b[0m\u001b[1;33m\u001b[0m\u001b[1;33m\u001b[0m\u001b[0m\n\u001b[0m\u001b[0;32m     14\u001b[0m \u001b[1;33m\u001b[0m\u001b[0m\n\u001b[0;32m     15\u001b[0m         reduced = dict(\n",
      "\u001b[1;32mC:\\ProgramData\\Anaconda3\\lib\\_strptime.py\u001b[0m in \u001b[0;36m_strptime_datetime\u001b[1;34m(cls, data_string, format)\u001b[0m\n\u001b[0;32m    566\u001b[0m     \"\"\"Return a class cls instance based on the input string and the\n\u001b[0;32m    567\u001b[0m     format string.\"\"\"\n\u001b[1;32m--> 568\u001b[1;33m     \u001b[0mtt\u001b[0m\u001b[1;33m,\u001b[0m \u001b[0mfraction\u001b[0m\u001b[1;33m,\u001b[0m \u001b[0mgmtoff_fraction\u001b[0m \u001b[1;33m=\u001b[0m \u001b[0m_strptime\u001b[0m\u001b[1;33m(\u001b[0m\u001b[0mdata_string\u001b[0m\u001b[1;33m,\u001b[0m \u001b[0mformat\u001b[0m\u001b[1;33m)\u001b[0m\u001b[1;33m\u001b[0m\u001b[1;33m\u001b[0m\u001b[0m\n\u001b[0m\u001b[0;32m    569\u001b[0m     \u001b[0mtzname\u001b[0m\u001b[1;33m,\u001b[0m \u001b[0mgmtoff\u001b[0m \u001b[1;33m=\u001b[0m \u001b[0mtt\u001b[0m\u001b[1;33m[\u001b[0m\u001b[1;33m-\u001b[0m\u001b[1;36m2\u001b[0m\u001b[1;33m:\u001b[0m\u001b[1;33m]\u001b[0m\u001b[1;33m\u001b[0m\u001b[1;33m\u001b[0m\u001b[0m\n\u001b[0;32m    570\u001b[0m     \u001b[0margs\u001b[0m \u001b[1;33m=\u001b[0m \u001b[0mtt\u001b[0m\u001b[1;33m[\u001b[0m\u001b[1;33m:\u001b[0m\u001b[1;36m6\u001b[0m\u001b[1;33m]\u001b[0m \u001b[1;33m+\u001b[0m \u001b[1;33m(\u001b[0m\u001b[0mfraction\u001b[0m\u001b[1;33m,\u001b[0m\u001b[1;33m)\u001b[0m\u001b[1;33m\u001b[0m\u001b[1;33m\u001b[0m\u001b[0m\n",
      "\u001b[1;32mC:\\ProgramData\\Anaconda3\\lib\\_strptime.py\u001b[0m in \u001b[0;36m_strptime\u001b[1;34m(data_string, format)\u001b[0m\n\u001b[0;32m    350\u001b[0m                          (data_string, format))\n\u001b[0;32m    351\u001b[0m     \u001b[1;32mif\u001b[0m \u001b[0mlen\u001b[0m\u001b[1;33m(\u001b[0m\u001b[0mdata_string\u001b[0m\u001b[1;33m)\u001b[0m \u001b[1;33m!=\u001b[0m \u001b[0mfound\u001b[0m\u001b[1;33m.\u001b[0m\u001b[0mend\u001b[0m\u001b[1;33m(\u001b[0m\u001b[1;33m)\u001b[0m\u001b[1;33m:\u001b[0m\u001b[1;33m\u001b[0m\u001b[1;33m\u001b[0m\u001b[0m\n\u001b[1;32m--> 352\u001b[1;33m         raise ValueError(\"unconverted data remains: %s\" %\n\u001b[0m\u001b[0;32m    353\u001b[0m                           data_string[found.end():])\n\u001b[0;32m    354\u001b[0m \u001b[1;33m\u001b[0m\u001b[0m\n",
      "\u001b[1;31mValueError\u001b[0m: unconverted data remains: :00"
     ]
    }
   ],
   "metadata": {}
  },
  {
   "cell_type": "code",
   "execution_count": null,
   "source": [
    "print(f\"Done in {time()-start} sec\")"
   ],
   "outputs": [],
   "metadata": {}
  }
 ]
}