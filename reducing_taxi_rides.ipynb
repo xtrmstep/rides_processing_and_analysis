{
 "metadata": {
  "language_info": {
   "codemirror_mode": {
    "name": "ipython",
    "version": 3
   },
   "file_extension": ".py",
   "mimetype": "text/x-python",
   "name": "python",
   "nbconvert_exporter": "python",
   "pygments_lexer": "ipython3",
   "version": "3.8.5"
  },
  "orig_nbformat": 2,
  "kernelspec": {
   "name": "python3",
   "display_name": "Python 3.8.5 64-bit ('base': conda)"
  },
  "interpreter": {
   "hash": "b3ba2566441a7c06988d0923437866b63cedc61552a5af99d1f4fb67d367b25f"
  }
 },
 "nbformat": 4,
 "nbformat_minor": 2,
 "cells": [
  {
   "cell_type": "code",
   "execution_count": 83,
   "source": [
    "import pandas as pd\r\n",
    "from datetime import datetime\r\n",
    "import os\r\n",
    "from time import time\r\n",
    "import glob"
   ],
   "outputs": [],
   "metadata": {}
  },
  {
   "cell_type": "code",
   "execution_count": 84,
   "source": [
    "start = time()"
   ],
   "outputs": [],
   "metadata": {}
  },
  {
   "cell_type": "code",
   "execution_count": 85,
   "source": [
    "def reduce_rides_data(files, tag_column, tag_name, file_reduced_folder):\r\n",
    "    \r\n",
    "    for filename in files:\r\n",
    "\r\n",
    "        dirname, fname = os.path.split(filename)\r\n",
    "        \r\n",
    "        df = pd.read_csv(filename)\r\n",
    "        tag_value = df[tag_column].iloc[0]\r\n",
    "\r\n",
    "        file_tag = tag_value\r\n",
    "        if isinstance(file_tag, str):\r\n",
    "            if len(file_tag) == 10:  # only date\r\n",
    "                file_tag = datetime.strptime(file_tag, \"%Y-%m-%d\").strftime(\"%Y%m%d_%H\")\r\n",
    "            else:\r\n",
    "                file_tag = datetime.strptime(file_tag, \"%Y-%m-%d %H:%M:%S\").strftime(\"%Y%m%d_%H\")\r\n",
    "\r\n",
    "        reduced = dict(\r\n",
    "            tag = tag_name,\r\n",
    "            tag_value = tag_value,\r\n",
    "            \r\n",
    "            rides_count = len(df),\r\n",
    "\r\n",
    "            passenger_count_mean = df[\"passenger_count\"].mean(),\r\n",
    "            passenger_count_median = df[\"passenger_count\"].median(),\r\n",
    "\r\n",
    "            trip_distance_sum = df[\"trip_distance\"].sum(),\r\n",
    "            trip_distance_mean = df[\"trip_distance\"].mean(),\r\n",
    "            trip_distance_median = df[\"trip_distance\"].median(),\r\n",
    "\r\n",
    "            tip_amount_sum = df[\"tip_amount\"].sum(),\r\n",
    "            tip_amount_mean = df[\"tip_amount\"].mean(),\r\n",
    "            tip_amount_median = df[\"tip_amount\"].median(),\r\n",
    "\r\n",
    "            humidity_mean = df[\"humidity\"].mean(),\r\n",
    "            humidity_median = df[\"humidity\"].median(),\r\n",
    "\r\n",
    "            pressure_mean = df[\"pressure\"].mean(),\r\n",
    "            pressure_median = df[\"pressure\"].median(),\r\n",
    "\r\n",
    "            wind_speed_mean = df[\"wind_speed\"].mean(),\r\n",
    "            wind_speed_median = df[\"wind_speed\"].median()\r\n",
    "        )\r\n",
    "\r\n",
    "        reduced_filename = f\"{file_reduced_folder}/{fname}\"\r\n",
    "        df_reduced = pd.DataFrame([reduced])\r\n",
    "        df_reduced.to_csv(reduced_filename, index=False)"
   ],
   "outputs": [],
   "metadata": {}
  },
  {
   "cell_type": "code",
   "execution_count": 86,
   "source": [
    "def merge_files(files, dest_filename):\r\n",
    "    for file in files:\r\n",
    "        df = pd.read_csv(file)\r\n",
    "        \r\n",
    "        if os.path.exists(dest_filename):\r\n",
    "            df.to_csv(dest_filename, mode='a', header=False, index=False)\r\n",
    "        else:\r\n",
    "            df.to_csv(dest_filename, index=False)\r\n",
    "\r\n",
    "        os.remove(file)"
   ],
   "outputs": [],
   "metadata": {}
  },
  {
   "cell_type": "markdown",
   "source": [
    "Reduce mapped files"
   ],
   "metadata": {}
  },
  {
   "cell_type": "code",
   "execution_count": 87,
   "source": [
    "files_by_days = glob.glob(\"./data/processing/days*.csv\")\r\n",
    "files_by_hours = glob.glob(\"./data/processing/hours*.csv\")\r\n",
    "files_by_weekdays = glob.glob(\"./data/processing/weekdays*.csv\")\r\n",
    "files_by_weather = glob.glob(\"./data/processing/weather*.csv\")\r\n",
    "\r\n",
    "file_reduced_folder = \"./data/reduced/\""
   ],
   "outputs": [],
   "metadata": {}
  },
  {
   "cell_type": "code",
   "execution_count": 88,
   "source": [
    "reduce_rides_data(files_by_days, \"by_day\", \"days\", file_reduced_folder)\r\n",
    "reduce_rides_data(files_by_hours, \"by_hour\", \"hours\", file_reduced_folder)\r\n",
    "reduce_rides_data(files_by_weekdays, \"by_weekday\", \"weekdays\", file_reduced_folder)\r\n",
    "reduce_rides_data(files_by_weather, \"weather_description_code\", \"weather\", file_reduced_folder)"
   ],
   "outputs": [],
   "metadata": {}
  },
  {
   "cell_type": "markdown",
   "source": [
    "Merge reduced files"
   ],
   "metadata": {}
  },
  {
   "cell_type": "code",
   "execution_count": 89,
   "source": [
    "files_by_days = glob.glob(\"./data/reduced/days*.csv\")\r\n",
    "files_by_hours = glob.glob(\"./data/reduced/hours*.csv\")\r\n",
    "files_by_weekdays = glob.glob(\"./data/reduced/weekdays*.csv\")\r\n",
    "files_by_weather = glob.glob(\"./data/reduced/weather*.csv\")\r\n",
    "\r\n",
    "file_merged_template = \"./data/reduced/{0}.csv\""
   ],
   "outputs": [],
   "metadata": {}
  },
  {
   "cell_type": "code",
   "execution_count": 90,
   "source": [
    "merge_files(files_by_days, \"./data/reduced/days.csv\")\r\n",
    "merge_files(files_by_hours, \"./data/reduced/hours.csv\")\r\n",
    "merge_files(files_by_weekdays, \"./data/reduced/weekdays.csv\")\r\n",
    "merge_files(files_by_weather, \"./data/reduced/weather.csv\")"
   ],
   "outputs": [],
   "metadata": {}
  },
  {
   "cell_type": "code",
   "execution_count": 91,
   "source": [
    "print(f\"Done in {time()-start} sec\")"
   ],
   "outputs": [
    {
     "output_type": "stream",
     "name": "stdout",
     "text": [
      "Done in 163.66869640350342 sec\n"
     ]
    }
   ],
   "metadata": {}
  }
 ]
}