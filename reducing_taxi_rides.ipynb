{
 "metadata": {
  "language_info": {
   "codemirror_mode": {
    "name": "ipython",
    "version": 3
   },
   "file_extension": ".py",
   "mimetype": "text/x-python",
   "name": "python",
   "nbconvert_exporter": "python",
   "pygments_lexer": "ipython3",
   "version": "3.8.5"
  },
  "orig_nbformat": 2,
  "kernelspec": {
   "name": "python3",
   "display_name": "Python 3.8.5 64-bit ('base': conda)"
  },
  "interpreter": {
   "hash": "b3ba2566441a7c06988d0923437866b63cedc61552a5af99d1f4fb67d367b25f"
  }
 },
 "nbformat": 4,
 "nbformat_minor": 2,
 "cells": [
  {
   "cell_type": "code",
   "execution_count": null,
   "source": [
    "import csv\r\n",
    "import pandas as pd\r\n",
    "from datetime import datetime, timedelta\r\n",
    "import os\r\n",
    "from time import time"
   ],
   "outputs": [],
   "metadata": {}
  },
  {
   "cell_type": "code",
   "execution_count": null,
   "source": [
    "start = time()"
   ],
   "outputs": [],
   "metadata": {}
  },
  {
   "cell_type": "code",
   "execution_count": null,
   "source": [
    "file_mapped = \"./data/processing/\""
   ],
   "outputs": [],
   "metadata": {}
  },
  {
   "cell_type": "code",
   "execution_count": null,
   "source": [
    "df = pd.read_csv(\"data/processing/days_20140102_00.csv\")"
   ],
   "outputs": [],
   "metadata": {}
  },
  {
   "cell_type": "code",
   "execution_count": null,
   "source": [
    "#  ['pickup_datetime', 'dropoff_datetime', 'passenger_count',\r\n",
    "#        'trip_distance', 'payment_type', 'tip_amount', 'by_hour', 'by_day',\r\n",
    "#        'humidity', 'pressure', 'temperature', 'weather_description',\r\n",
    "#        'wind_direction', 'wind_speed']\r\n",
    "\r\n",
    "df[\"rides_count\"] = len(df)\r\n",
    "\r\n",
    "df[\"passenger_count_mean\"] = df[\"passenger_count\"].mean()\r\n",
    "df[\"passenger_count_median\"] = df[\"passenger_count\"].median()\r\n",
    "\r\n",
    "df[\"trip_distance_sum\"] = df[\"trip_distance\"].sum()\r\n",
    "df[\"trip_distance_mean\"] = df[\"trip_distance\"].mean()\r\n",
    "df[\"trip_distance_median\"] = df[\"trip_distance\"].median()\r\n",
    "\r\n",
    "df[\"tip_amount_sum\"] = df[\"tip_amount\"].sum()\r\n",
    "df[\"tip_amount_mean\"] = df[\"tip_amount\"].mean()\r\n",
    "df[\"tip_amount_median\"] = df[\"tip_amount\"].median()\r\n",
    "\r\n",
    "df[\"humidity_mean\"] = df[\"humidity\"].mean()\r\n",
    "df[\"humidity_median\"] = df[\"humidity\"].median()\r\n",
    "\r\n",
    "df[\"pressure_mean\"] = df[\"pressure\"].mean()\r\n",
    "df[\"pressure_median\"] = df[\"pressure\"].median()\r\n",
    "\r\n",
    "df[\"wind_speed_mean\"] = df[\"wind_speed\"].mean()\r\n",
    "df[\"wind_speed_median\"] = df[\"wind_speed\"].median()\r\n",
    "\r\n",
    "df.head()"
   ],
   "outputs": [],
   "metadata": {}
  },
  {
   "cell_type": "code",
   "execution_count": null,
   "source": [
    "print(f\"Done in {time()-start} sec\")"
   ],
   "outputs": [],
   "metadata": {}
  }
 ]
}