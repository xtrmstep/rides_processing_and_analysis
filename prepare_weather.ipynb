{
 "metadata": {
  "language_info": {
   "codemirror_mode": {
    "name": "ipython",
    "version": 3
   },
   "file_extension": ".py",
   "mimetype": "text/x-python",
   "name": "python",
   "nbconvert_exporter": "python",
   "pygments_lexer": "ipython3",
   "version": "3.8.5"
  },
  "orig_nbformat": 2,
  "kernelspec": {
   "name": "python3",
   "display_name": "Python 3.8.5 64-bit ('base': conda)"
  },
  "interpreter": {
   "hash": "b3ba2566441a7c06988d0923437866b63cedc61552a5af99d1f4fb67d367b25f"
  }
 },
 "nbformat": 4,
 "nbformat_minor": 2,
 "cells": [
  {
   "cell_type": "code",
   "execution_count": null,
   "source": [
    "import pandas as pd\r\n",
    "from time import time"
   ],
   "outputs": [],
   "metadata": {}
  },
  {
   "cell_type": "code",
   "execution_count": null,
   "source": [
    "start = time()"
   ],
   "outputs": [],
   "metadata": {}
  },
  {
   "cell_type": "code",
   "execution_count": null,
   "source": [
    "# prepare weather\r\n",
    "\r\n",
    "file_city_attributes = \"./data/weather/city_attributes.csv\"\r\n",
    "file_humidity = \"./data/weather/humidity.csv\"\r\n",
    "file_pressure = \"./data/weather/pressure.csv\"\r\n",
    "file_temperature = \"./data/weather/temperature.csv\"\r\n",
    "file_weather_description = \"./data/weather/weather_description.csv\"\r\n",
    "file_wind_direction = \"./data/weather/wind_direction.csv\"\r\n",
    "file_wind_speed = \"./data/weather/wind_speed.csv\""
   ],
   "outputs": [],
   "metadata": {}
  },
  {
   "cell_type": "code",
   "execution_count": null,
   "source": [
    "df_city_attributes = pd.read_csv(file_city_attributes)\r\n",
    "df_city_attributes = df_city_attributes[df_city_attributes[\"City\"]==\"New York\"]"
   ],
   "outputs": [],
   "metadata": {}
  },
  {
   "cell_type": "code",
   "execution_count": null,
   "source": [
    "def extract_ny_data(source_file: str):\r\n",
    "    df = pd.read_csv(source_file)\r\n",
    "    df = df[[\"datetime\",\"New York\"]].reset_index()\r\n",
    "    df = df.set_index([\"datetime\"])\r\n",
    "    return df"
   ],
   "outputs": [],
   "metadata": {}
  },
  {
   "cell_type": "code",
   "execution_count": null,
   "source": [
    "df_humidity = extract_ny_data(file_humidity)\r\n",
    "df_pressure = extract_ny_data(file_pressure)\r\n",
    "df_temperature = extract_ny_data(file_temperature)\r\n",
    "df_weather_description = extract_ny_data(file_weather_description)\r\n",
    "df_wind_direction = extract_ny_data(file_wind_direction)\r\n",
    "df_wind_speed = extract_ny_data(file_wind_speed)"
   ],
   "outputs": [],
   "metadata": {}
  },
  {
   "cell_type": "code",
   "execution_count": null,
   "source": [
    "df = df_humidity.join(df_pressure, on=[\"datetime\"], lsuffix=\"_humidity\")\r\n",
    "df = df.join(df_temperature, on=[\"datetime\"], lsuffix=\"_pressure\")\r\n",
    "df = df.join(df_weather_description, on=[\"datetime\"], lsuffix=\"_temperature\")\r\n",
    "df = df.join(df_wind_direction, on=[\"datetime\"], lsuffix=\"_weather_description\")\r\n",
    "df = df.join(df_wind_speed, on=[\"datetime\"], lsuffix=\"_wind_direction\")\r\n",
    "index_columns = [col for col in df.columns if col.startswith(\"index\")]\r\n",
    "df = df.drop(index_columns, axis = 1)\r\n",
    "df = df.rename(columns={\r\n",
    "    \"New York_humidity\":\"humidity\",\r\n",
    "    \"New York_pressure\":\"pressure\",\r\n",
    "    \"New York_temperature\":\"temperature\",\r\n",
    "    \"New York_weather_description\":\"weather_description\",\r\n",
    "    \"New York_wind_direction\":\"wind_direction\",\r\n",
    "    \"New York\":\"wind_speed\",\r\n",
    "    })"
   ],
   "outputs": [],
   "metadata": {}
  },
  {
   "cell_type": "code",
   "execution_count": null,
   "source": [
    "df.head()"
   ],
   "outputs": [],
   "metadata": {}
  },
  {
   "cell_type": "code",
   "execution_count": null,
   "source": [
    "# find how many gaps in data\r\n",
    "\r\n",
    "row_has_NaN = df.isnull().any(axis=1)\r\n",
    "nan_count = len(df[row_has_NaN])\r\n",
    "print(\"NaN:\",nan_count)"
   ],
   "outputs": [],
   "metadata": {}
  },
  {
   "cell_type": "code",
   "execution_count": null,
   "source": [
    "# conver strings to numeric values\r\n",
    "\r\n",
    "def map_weather_to_number(weather):\r\n",
    "    mapping={\r\n",
    "        'few clouds': 1,\r\n",
    "        'sky is clear': 2,\r\n",
    "        'scattered clouds': 3,\r\n",
    "        'broken clouds': 4,\r\n",
    "        'overcast clouds': 5,\r\n",
    "        'mist': 6,\r\n",
    "        'drizzle': 7,\r\n",
    "        'moderate rain': 8,\r\n",
    "        'light intensity drizzle': 9,\r\n",
    "        'light rain': 10,\r\n",
    "        'fog': 11,\r\n",
    "        'haze': 12,\r\n",
    "        'heavy snow': 13,\r\n",
    "        'heavy intensity drizzle': 14,\r\n",
    "        'heavy intensity rain': 15,\r\n",
    "        'light rain and snow': 16,\r\n",
    "        'snow': 17,\r\n",
    "        'light snow': 18,\r\n",
    "        'freezing rain': 19,\r\n",
    "        'proximity thunderstorm': 20,\r\n",
    "        'thunderstorm': 21,\r\n",
    "        'thunderstorm with rain': 22,\r\n",
    "        'smoke': 23,\r\n",
    "        'very heavy rain': 24,\r\n",
    "        'thunderstorm with heavy rain': 25,\r\n",
    "        'thunderstorm with light rain': 26,\r\n",
    "        'squalls': 27,\r\n",
    "        'dust': 28,\r\n",
    "        'proximity thunderstorm with rain': 29,\r\n",
    "        'thunderstorm with light drizzle': 30,\r\n",
    "        'sand': 31,\r\n",
    "        'shower rain': 32,\r\n",
    "        'proximity thunderstorm with drizzle': 33,\r\n",
    "        'light intensity shower rain': 34,\r\n",
    "        'sand/dust whirls': 35,\r\n",
    "        'heavy thunderstorm': 36\r\n",
    "    }\r\n",
    "    return mapping[weather] if weather in mapping else None\r\n",
    "\r\n",
    "df[\"weather_description_code\"] = df[[\"weather_description\"]].applymap(map_weather_to_number)"
   ],
   "outputs": [],
   "metadata": {}
  },
  {
   "cell_type": "code",
   "execution_count": null,
   "source": [
    "# fill gaps with interpolation\r\n",
    "\r\n",
    "df = df.interpolate().fillna(method='bfill')"
   ],
   "outputs": [],
   "metadata": {}
  },
  {
   "cell_type": "code",
   "execution_count": null,
   "source": [
    "df.reset_index().to_csv(\"./data/prepared_weather.csv\", index=False)"
   ],
   "outputs": [],
   "metadata": {}
  },
  {
   "cell_type": "code",
   "execution_count": null,
   "source": [
    "print(f\"Done in {time()-start} sec\")"
   ],
   "outputs": [],
   "metadata": {}
  }
 ]
}